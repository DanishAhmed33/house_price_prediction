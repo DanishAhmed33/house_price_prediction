{
 "cells": [
  {
   "cell_type": "code",
   "execution_count": 3,
   "id": "df3aa36a",
   "metadata": {},
   "outputs": [
    {
     "name": "stdout",
     "output_type": "stream",
     "text": [
      "✅ Final shape of X and y: (1119, 36) (1119,)\n",
      "✅ RMSE: 0.14352720996171198\n",
      "✅ Model saved.\n"
     ]
    }
   ],
   "source": [
    "import pandas as pd\n",
    "import numpy as np\n",
    "from xgboost import XGBRegressor\n",
    "from sklearn.model_selection import train_test_split\n",
    "from sklearn.metrics import mean_squared_error\n",
    "import pickle\n",
    "\n",
    "df = pd.read_csv('../data/train.csv')\n",
    "df = df[df['GrLivArea'] < 4500]\n",
    "df = df.select_dtypes(include=['number'])\n",
    "df = df.dropna()\n",
    "\n",
    "if 'Id' in df.columns:\n",
    "    df = df.drop(['Id'], axis=1)\n",
    "\n",
    "df['SalePrice'] = np.log1p(df['SalePrice'])\n",
    "\n",
    "X = df.drop(['SalePrice'], axis=1)\n",
    "y = df['SalePrice']\n",
    "\n",
    "print(\"✅ Final shape of X and y:\", X.shape, y.shape)\n",
    "\n",
    "X_train, X_test, y_train, y_test = train_test_split(X, y, random_state=42)\n",
    "model = XGBRegressor()\n",
    "model.fit(X_train, y_train)\n",
    "\n",
    "preds = model.predict(X_test)\n",
    "print(\"✅ RMSE:\", np.sqrt(mean_squared_error(y_test, preds)))\n",
    "\n",
    "model_features = X.columns.tolist()\n",
    "with open('../model/house_price_model.pkl', 'wb') as f:\n",
    "    pickle.dump((model, model_features), f)\n",
    "\n",
    "print(\"✅ Model saved.\")\n"
   ]
  }
 ],
 "metadata": {
  "kernelspec": {
   "display_name": "venv",
   "language": "python",
   "name": "python3"
  },
  "language_info": {
   "codemirror_mode": {
    "name": "ipython",
    "version": 3
   },
   "file_extension": ".py",
   "mimetype": "text/x-python",
   "name": "python",
   "nbconvert_exporter": "python",
   "pygments_lexer": "ipython3",
   "version": "3.12.0"
  }
 },
 "nbformat": 4,
 "nbformat_minor": 5
}
